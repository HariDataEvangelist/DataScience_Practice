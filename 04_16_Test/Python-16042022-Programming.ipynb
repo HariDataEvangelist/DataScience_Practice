{
 "cells": [
  {
   "cell_type": "markdown",
   "id": "0336d4ff",
   "metadata": {},
   "source": [
    "## Python Program to check Leap Year"
   ]
  },
  {
   "cell_type": "code",
   "execution_count": 8,
   "id": "258200ea",
   "metadata": {},
   "outputs": [
    {
     "name": "stdout",
     "output_type": "stream",
     "text": [
      "Please Enter the Year: 2000\n",
      "2000 is a Leap year\n"
     ]
    }
   ],
   "source": [
    "Year = int(input(\"Please Enter the Year: \"))\n",
    "\n",
    "if (( Year%400 == 0)or (( Year%4 == 0 ) and ( Year%100 != 0))):\n",
    "    print(\"%d is a Leap year\" %Year)\n",
    "else:\n",
    "    print(\"%d is Not Leap Year\" %Year)"
   ]
  },
  {
   "cell_type": "markdown",
   "id": "102ef95e",
   "metadata": {},
   "source": [
    "## Python Program to reverse a given number"
   ]
  },
  {
   "cell_type": "code",
   "execution_count": 11,
   "id": "1ba17308",
   "metadata": {},
   "outputs": [
    {
     "name": "stdout",
     "output_type": "stream",
     "text": [
      "Enter the number: 355336\n",
      "Reverse of the number: 633553\n"
     ]
    }
   ],
   "source": [
    "num=int(input(\"Enter the number: \"))\n",
    "rev=0\n",
    "while(num>0):\n",
    "    dig=num%10\n",
    "    rev=rev*10+dig\n",
    "    num=num//10\n",
    "print(\"Reverse of the number:\",rev)"
   ]
  },
  {
   "cell_type": "markdown",
   "id": "bfabadd8",
   "metadata": {},
   "source": [
    "## Inner function to calculate addition"
   ]
  },
  {
   "cell_type": "code",
   "execution_count": 22,
   "id": "11c37f61",
   "metadata": {},
   "outputs": [
    {
     "name": "stdout",
     "output_type": "stream",
     "text": [
      "20\n"
     ]
    }
   ],
   "source": [
    "# outer function (Function 1)\n",
    "def outer_fun(a, b):\n",
    "    square = a ** 2\n",
    "\n",
    "    # inner function (Function 2)\n",
    "    def addition(a, b):\n",
    "        return a + b\n",
    "\n",
    "    # call Function 2 from From Function 1\n",
    "    add = addition(a, b)\n",
    "    # add 5 to the result\n",
    "    return add + 5\n",
    "\n",
    "result = outer_fun(5, 10)\n",
    "print(result)"
   ]
  },
  {
   "cell_type": "markdown",
   "id": "421406ba",
   "metadata": {},
   "source": [
    "## Checking unique numbers from Sequence of number"
   ]
  },
  {
   "cell_type": "code",
   "execution_count": 31,
   "id": "fdd9a791",
   "metadata": {},
   "outputs": [
    {
     "name": "stdout",
     "output_type": "stream",
     "text": [
      "[2020, 2022, 200, 1000, 11, 4434, 2002, 22, 443, 222]\n"
     ]
    }
   ],
   "source": [
    "LoN = [11, 222, 22,22, 443, 222, 4434, 443, 200 , 200, 1000, 1000,2002,2020,2022,2002]\n",
    "\n",
    "\n",
    "def unique_Num(LoN):\n",
    "\n",
    "    list_of_unique_numbers = []\n",
    "\n",
    "    unique_numbers = set(LoN)\n",
    "\n",
    "    for number in unique_numbers:\n",
    "        list_of_unique_numbers.append(number)\n",
    "\n",
    "    return list_of_unique_numbers\n",
    "\n",
    "\n",
    "print(get_unique_numbers(LoN))\n"
   ]
  },
  {
   "cell_type": "markdown",
   "id": "ca586c7e",
   "metadata": {},
   "source": [
    "## Python Program to check multiple of 5 and 7"
   ]
  },
  {
   "cell_type": "code",
   "execution_count": 32,
   "id": "d7e0c661",
   "metadata": {},
   "outputs": [
    {
     "name": "stdout",
     "output_type": "stream",
     "text": [
      "Enter an Integer35\n",
      "35 is multiple of 5 and 7\n"
     ]
    }
   ],
   "source": [
    "in_num = int(input(\"Enter an Integer\"))\n",
    "if((in_num%5==0)and(in_num%7==0)):\n",
    "    print(in_num, \"is multiple of 5 and 7\")\n",
    "else:\n",
    "    print(in_num, \"is not multiple of 5 and 7\")"
   ]
  },
  {
   "cell_type": "markdown",
   "id": "b9cb13c6",
   "metadata": {},
   "source": [
    "## Python Program to find out the average of set of integers"
   ]
  },
  {
   "cell_type": "code",
   "execution_count": 36,
   "id": "0d9191c6",
   "metadata": {},
   "outputs": [
    {
     "name": "stdout",
     "output_type": "stream",
     "text": [
      "Input set of numbers: 2\n",
      "Enter number : 4\n",
      "Enter number : 70\n",
      "Average of  2  numbers is : 37.0\n"
     ]
    }
   ],
   "source": [
    "num = int(input('Input set of numbers: '))\n",
    "total_sum = 0\n",
    "for n in range(num):\n",
    "    numbers = float(input('Enter number : '))\n",
    "    total_sum += numbers\n",
    "avg = total_sum/num\n",
    "print('Average of ', num, ' numbers is :', avg)"
   ]
  },
  {
   "cell_type": "code",
   "execution_count": null,
   "id": "571730a6",
   "metadata": {},
   "outputs": [],
   "source": []
  }
 ],
 "metadata": {
  "kernelspec": {
   "display_name": "Python 3 (ipykernel)",
   "language": "python",
   "name": "python3"
  },
  "language_info": {
   "codemirror_mode": {
    "name": "ipython",
    "version": 3
   },
   "file_extension": ".py",
   "mimetype": "text/x-python",
   "name": "python",
   "nbconvert_exporter": "python",
   "pygments_lexer": "ipython3",
   "version": "3.9.7"
  }
 },
 "nbformat": 4,
 "nbformat_minor": 5
}
